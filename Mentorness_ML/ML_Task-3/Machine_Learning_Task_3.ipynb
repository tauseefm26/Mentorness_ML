{
  "nbformat": 4,
  "nbformat_minor": 0,
  "metadata": {
    "colab": {
      "provenance": []
    },
    "kernelspec": {
      "name": "python3",
      "display_name": "Python 3"
    },
    "language_info": {
      "name": "python"
    }
  },
  "cells": [
    {
      "cell_type": "code",
      "source": [
        "import pandas as pd\n",
        "import numpy as np\n",
        "import joblib\n",
        "from sklearn.model_selection import train_test_split\n",
        "from sklearn.ensemble import RandomForestRegressor\n",
        "from sklearn.preprocessing import StandardScaler\n",
        "from sklearn.metrics import mean_squared_error, mean_absolute_error, r2_score"
      ],
      "metadata": {
        "id": "Tj7zkJjoYTSO"
      },
      "execution_count": null,
      "outputs": []
    },
    {
      "cell_type": "code",
      "source": [
        "# Load the dataset\n",
        "df = pd.read_csv('Restaurant_Dataset.csv')"
      ],
      "metadata": {
        "id": "CrhZgsyKbLQW"
      },
      "execution_count": null,
      "outputs": []
    },
    {
      "cell_type": "code",
      "source": [
        "# Display the column names to verify they match expected names\n",
        "print(\"Columns in the dataset:\", df.columns)\n"
      ],
      "metadata": {
        "colab": {
          "base_uri": "https://localhost:8080/"
        },
        "id": "NB_7b-H0bVR5",
        "outputId": "776e2c36-25a9-4471-d1e4-ae5c7f8d9125"
      },
      "execution_count": null,
      "outputs": [
        {
          "output_type": "stream",
          "name": "stdout",
          "text": [
            "Columns in the dataset: Index(['Restaurant ID', 'Restaurant Name', 'Country Code', 'City', 'Address',\n",
            "       'Locality', 'Locality Verbose', 'Longitude', 'Latitude', 'Cuisines',\n",
            "       'Average Cost for two', 'Currency', 'Has Table booking',\n",
            "       'Has Online delivery', 'Is delivering now', 'Switch to order menu',\n",
            "       'Price range', 'Aggregate rating', 'Rating color', 'Rating text',\n",
            "       'Votes'],\n",
            "      dtype='object')\n"
          ]
        }
      ]
    },
    {
      "cell_type": "code",
      "source": [
        "# Ensure the expected columns exist\n",
        "expected_columns = ['Has Table booking', 'Has Online delivery', 'Is delivering now', 'Switch to order menu']\n",
        "for col in expected_columns:\n",
        "    if col not in df.columns:\n",
        "        print(f\"Column '{col}' not found in the dataset.\")\n",
        "        # Add code here to handle missing columns, if necessary"
      ],
      "metadata": {
        "id": "tzTb-WTjbVPw"
      },
      "execution_count": null,
      "outputs": []
    },
    {
      "cell_type": "code",
      "source": [
        "# Data Preprocessing\n",
        "df['Has Table booking'] = df['Has Table booking'].map({'Yes': 1, 'No': 0})\n",
        "df['Has Online delivery'] = df['Has Online delivery'].map({'Yes': 1, 'No': 0})\n",
        "df['Is delivering now'] = df['Is delivering now'].map({'Yes': 1, 'No': 0})\n",
        "df['Switch to order menu'] = df['Switch to order menu'].map({'Yes': 1, 'No': 0})\n"
      ],
      "metadata": {
        "id": "PvLxGNaLbVMp"
      },
      "execution_count": null,
      "outputs": []
    },
    {
      "cell_type": "code",
      "source": [
        "# One-hot encoding for 'Cuisines' column\n",
        "cuisine_dummies = df['Cuisines'].str.get_dummies(sep=', ')\n",
        "df = pd.concat([df, cuisine_dummies], axis=1)\n"
      ],
      "metadata": {
        "id": "YUP1KH46bVKX"
      },
      "execution_count": null,
      "outputs": []
    },
    {
      "cell_type": "code",
      "source": [
        "# Drop columns not needed for the model\n",
        "columns_to_drop = ['Restaurant ID', 'Restaurant Name', 'Address', 'Locality', 'Locality Verbose', 'Currency', 'Rating color', 'Rating text', 'Cuisines', 'Country Code', 'Latitude', 'Longitude']\n",
        "df = df.drop([col for col in columns_to_drop if col in df.columns], axis=1)"
      ],
      "metadata": {
        "id": "WR1hnQTebVHN"
      },
      "execution_count": null,
      "outputs": []
    },
    {
      "cell_type": "code",
      "source": [
        "# Convert 'City' to categorical and then to numerical\n",
        "df['City'] = df['City'].astype('category').cat.codes"
      ],
      "metadata": {
        "id": "yEeLbx_0bVEO"
      },
      "execution_count": null,
      "outputs": []
    },
    {
      "cell_type": "code",
      "source": [
        "# Normalize/Scale numerical features\n",
        "scaler = StandardScaler()\n",
        "numerical_features = ['Average Cost for two', 'Price range', 'Votes']\n",
        "df[numerical_features] = scaler.fit_transform(df[numerical_features])"
      ],
      "metadata": {
        "id": "OuKgK11xbVBW"
      },
      "execution_count": null,
      "outputs": []
    },
    {
      "cell_type": "code",
      "source": [
        "# Splitting the data\n",
        "X = df.drop('Aggregate rating', axis=1)\n",
        "y = df['Aggregate rating']\n",
        "\n",
        "X_train, X_test, y_train, y_test = train_test_split(X, y, test_size=0.2, random_state=42)\n"
      ],
      "metadata": {
        "id": "LvgDtxFRbU-o"
      },
      "execution_count": null,
      "outputs": []
    },
    {
      "cell_type": "code",
      "source": [
        "# Training the model\n",
        "model = RandomForestRegressor(random_state=42)\n",
        "model.fit(X_train, y_train)\n"
      ],
      "metadata": {
        "colab": {
          "base_uri": "https://localhost:8080/",
          "height": 75
        },
        "id": "6sUuIpuIbU8D",
        "outputId": "023eaebc-d65a-49a5-cba3-329c52f923c9"
      },
      "execution_count": null,
      "outputs": [
        {
          "output_type": "execute_result",
          "data": {
            "text/plain": [
              "RandomForestRegressor(random_state=42)"
            ],
            "text/html": [
              "<style>#sk-container-id-2 {color: black;}#sk-container-id-2 pre{padding: 0;}#sk-container-id-2 div.sk-toggleable {background-color: white;}#sk-container-id-2 label.sk-toggleable__label {cursor: pointer;display: block;width: 100%;margin-bottom: 0;padding: 0.3em;box-sizing: border-box;text-align: center;}#sk-container-id-2 label.sk-toggleable__label-arrow:before {content: \"▸\";float: left;margin-right: 0.25em;color: #696969;}#sk-container-id-2 label.sk-toggleable__label-arrow:hover:before {color: black;}#sk-container-id-2 div.sk-estimator:hover label.sk-toggleable__label-arrow:before {color: black;}#sk-container-id-2 div.sk-toggleable__content {max-height: 0;max-width: 0;overflow: hidden;text-align: left;background-color: #f0f8ff;}#sk-container-id-2 div.sk-toggleable__content pre {margin: 0.2em;color: black;border-radius: 0.25em;background-color: #f0f8ff;}#sk-container-id-2 input.sk-toggleable__control:checked~div.sk-toggleable__content {max-height: 200px;max-width: 100%;overflow: auto;}#sk-container-id-2 input.sk-toggleable__control:checked~label.sk-toggleable__label-arrow:before {content: \"▾\";}#sk-container-id-2 div.sk-estimator input.sk-toggleable__control:checked~label.sk-toggleable__label {background-color: #d4ebff;}#sk-container-id-2 div.sk-label input.sk-toggleable__control:checked~label.sk-toggleable__label {background-color: #d4ebff;}#sk-container-id-2 input.sk-hidden--visually {border: 0;clip: rect(1px 1px 1px 1px);clip: rect(1px, 1px, 1px, 1px);height: 1px;margin: -1px;overflow: hidden;padding: 0;position: absolute;width: 1px;}#sk-container-id-2 div.sk-estimator {font-family: monospace;background-color: #f0f8ff;border: 1px dotted black;border-radius: 0.25em;box-sizing: border-box;margin-bottom: 0.5em;}#sk-container-id-2 div.sk-estimator:hover {background-color: #d4ebff;}#sk-container-id-2 div.sk-parallel-item::after {content: \"\";width: 100%;border-bottom: 1px solid gray;flex-grow: 1;}#sk-container-id-2 div.sk-label:hover label.sk-toggleable__label {background-color: #d4ebff;}#sk-container-id-2 div.sk-serial::before {content: \"\";position: absolute;border-left: 1px solid gray;box-sizing: border-box;top: 0;bottom: 0;left: 50%;z-index: 0;}#sk-container-id-2 div.sk-serial {display: flex;flex-direction: column;align-items: center;background-color: white;padding-right: 0.2em;padding-left: 0.2em;position: relative;}#sk-container-id-2 div.sk-item {position: relative;z-index: 1;}#sk-container-id-2 div.sk-parallel {display: flex;align-items: stretch;justify-content: center;background-color: white;position: relative;}#sk-container-id-2 div.sk-item::before, #sk-container-id-2 div.sk-parallel-item::before {content: \"\";position: absolute;border-left: 1px solid gray;box-sizing: border-box;top: 0;bottom: 0;left: 50%;z-index: -1;}#sk-container-id-2 div.sk-parallel-item {display: flex;flex-direction: column;z-index: 1;position: relative;background-color: white;}#sk-container-id-2 div.sk-parallel-item:first-child::after {align-self: flex-end;width: 50%;}#sk-container-id-2 div.sk-parallel-item:last-child::after {align-self: flex-start;width: 50%;}#sk-container-id-2 div.sk-parallel-item:only-child::after {width: 0;}#sk-container-id-2 div.sk-dashed-wrapped {border: 1px dashed gray;margin: 0 0.4em 0.5em 0.4em;box-sizing: border-box;padding-bottom: 0.4em;background-color: white;}#sk-container-id-2 div.sk-label label {font-family: monospace;font-weight: bold;display: inline-block;line-height: 1.2em;}#sk-container-id-2 div.sk-label-container {text-align: center;}#sk-container-id-2 div.sk-container {/* jupyter's `normalize.less` sets `[hidden] { display: none; }` but bootstrap.min.css set `[hidden] { display: none !important; }` so we also need the `!important` here to be able to override the default hidden behavior on the sphinx rendered scikit-learn.org. See: https://github.com/scikit-learn/scikit-learn/issues/21755 */display: inline-block !important;position: relative;}#sk-container-id-2 div.sk-text-repr-fallback {display: none;}</style><div id=\"sk-container-id-2\" class=\"sk-top-container\"><div class=\"sk-text-repr-fallback\"><pre>RandomForestRegressor(random_state=42)</pre><b>In a Jupyter environment, please rerun this cell to show the HTML representation or trust the notebook. <br />On GitHub, the HTML representation is unable to render, please try loading this page with nbviewer.org.</b></div><div class=\"sk-container\" hidden><div class=\"sk-item\"><div class=\"sk-estimator sk-toggleable\"><input class=\"sk-toggleable__control sk-hidden--visually\" id=\"sk-estimator-id-2\" type=\"checkbox\" checked><label for=\"sk-estimator-id-2\" class=\"sk-toggleable__label sk-toggleable__label-arrow\">RandomForestRegressor</label><div class=\"sk-toggleable__content\"><pre>RandomForestRegressor(random_state=42)</pre></div></div></div></div></div>"
            ]
          },
          "metadata": {},
          "execution_count": 26
        }
      ]
    },
    {
      "cell_type": "code",
      "source": [
        "# Saving the model\n",
        "joblib.dump(model, 'restaurant_rating_model.pkl')"
      ],
      "metadata": {
        "colab": {
          "base_uri": "https://localhost:8080/"
        },
        "id": "4A5Q2GEVfPqC",
        "outputId": "962e3bd5-6712-4da8-956e-194977205773"
      },
      "execution_count": null,
      "outputs": [
        {
          "output_type": "execute_result",
          "data": {
            "text/plain": [
              "['restaurant_rating_model.pkl']"
            ]
          },
          "metadata": {},
          "execution_count": 27
        }
      ]
    },
    {
      "cell_type": "code",
      "source": [
        "# User Input Function\n",
        "def get_user_input():\n",
        "    city = input(\"Enter City: \")\n",
        "    cuisines = input(\"Enter Cuisines (comma separated): \").split(', ')\n",
        "    average_cost_for_two = float(input(\"Enter Average Cost for Two: \"))\n",
        "    has_table_booking = input(\"Has Table Booking (Yes/No): \")\n",
        "    has_online_delivery = input(\"Has Online Delivery (Yes/No): \")\n",
        "    is_delivering_now = input(\"Is Delivering Now (Yes/No): \")\n",
        "    switch_to_order_menu = input(\"Switch to Order Menu (Yes/No): \")\n",
        "    price_range = int(input(\"Enter Price Range: \"))\n",
        "    votes = int(input(\"Enter Votes: \"))\n",
        "\n",
        "    # Create a DataFrame for the input\n",
        "    input_data = {\n",
        "        'City': [city],\n",
        "        'Average Cost for two': [average_cost_for_two],\n",
        "        'Has Table booking': [1 if has_table_booking == 'Yes' else 0],\n",
        "        'Has Online delivery': [1 if has_online_delivery == 'Yes' else 0],\n",
        "        'Is delivering now': [1 if is_delivering_now == 'Yes' else 0],\n",
        "        'Switch to order menu': [1 if switch_to_order_menu == 'Yes' else 0],\n",
        "        'Price range': [price_range],\n",
        "        'Votes': [votes]\n",
        "    }\n",
        "\n",
        "    # Add cuisine columns\n",
        "    for cuisine in cuisine_dummies.columns:\n",
        "        input_data[cuisine] = [1 if cuisine in cuisines else 0]\n",
        "\n",
        "    # Convert input_data to DataFrame\n",
        "    input_df = pd.DataFrame(input_data)\n",
        "\n",
        "    # Convert 'City' to numerical\n",
        "    input_df['City'] = input_df['City'].astype('category').cat.codes\n",
        "\n",
        "    # Normalize numerical features\n",
        "    input_df[numerical_features] = scaler.transform(input_df[numerical_features])\n",
        "\n",
        "    return input_df\n"
      ],
      "metadata": {
        "id": "Twi5uN1YfPme"
      },
      "execution_count": null,
      "outputs": []
    },
    {
      "cell_type": "code",
      "source": [
        "# Predict Function\n",
        "def predict_rating(input_df):\n",
        "    model = joblib.load('restaurant_rating_model.pkl')\n",
        "    prediction = model.predict(input_df)\n",
        "    return prediction[0]"
      ],
      "metadata": {
        "id": "Z93Gi8wEfPjW"
      },
      "execution_count": null,
      "outputs": []
    },
    {
      "cell_type": "code",
      "source": [
        "# Main Function\n",
        "if __name__ == \"__main__\":\n",
        "    user_input = get_user_input()\n",
        "    rating = predict_rating(user_input)\n",
        "    print(f\"The predicted aggregate rating is: {rating}\")"
      ],
      "metadata": {
        "colab": {
          "base_uri": "https://localhost:8080/"
        },
        "id": "dE6Gq1KIfmIe",
        "outputId": "2c52df7f-6dd7-416a-94ae-665eddae0ac1"
      },
      "execution_count": null,
      "outputs": [
        {
          "output_type": "stream",
          "name": "stdout",
          "text": [
            "Enter City: Dubai\n",
            "Enter Cuisines (comma separated): Pakistani, Indian, Sweets\n",
            "Enter Average Cost for Two: 90\n",
            "Has Table Booking (Yes/No): No\n",
            "Has Online Delivery (Yes/No): Yes\n",
            "Is Delivering Now (Yes/No): Yes\n",
            "Switch to Order Menu (Yes/No): No\n",
            "Enter Price Range: 3\n",
            "Enter Votes: 210\n",
            "The predicted aggregate rating is: 4.277000000000001\n"
          ]
        }
      ]
    }
  ]
}